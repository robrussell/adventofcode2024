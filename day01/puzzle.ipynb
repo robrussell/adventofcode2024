{
 "cells": [
  {
   "cell_type": "markdown",
   "metadata": {},
   "source": [
    "# Day 1: Historian Hysteria\n",
    "\n",
    "We get two lists of `location ID`s and we need to compare the values, find distances between corresponding location IDs, and produce the total of the distances.\n",
    "\n",
    "One way to do it would be:\n",
    "\n",
    "1. Pair the smallest number in the first list with the smallest number in the second list.\n",
    "2. Compute the absolute difference.\n",
    "3. Add to the running total.\n",
    "4. Repeat with the pair of next smallest numbers until none remain.\n",
    "5. Report the running total."
   ]
  },
  {
   "cell_type": "code",
   "execution_count": 1,
   "metadata": {},
   "outputs": [],
   "source": [
    "import pathlib"
   ]
  },
  {
   "cell_type": "code",
   "execution_count": 2,
   "metadata": {},
   "outputs": [],
   "source": [
    "def read_location_ids(source_file: pathlib.Path) -> tuple[list[int], list[int]]:\n",
    "    cast_list = lambda l: [int(a) for a in l]\n",
    "    result = ([],[])\n",
    "    with source_file.open() as s:\n",
    "        str_result = list(zip(*[line.split() for line in s.readlines()]))\n",
    "        result = (cast_list(str_result[0]), cast_list(str_result[1]))\n",
    "    return result"
   ]
  },
  {
   "cell_type": "code",
   "execution_count": null,
   "metadata": {},
   "outputs": [],
   "source": [
    "# l = read_location_ids(pathlib.Path('input/example.txt'))\n",
    "l = read_location_ids(pathlib.Path('input/mine.txt'))"
   ]
  },
  {
   "cell_type": "code",
   "execution_count": 5,
   "metadata": {},
   "outputs": [],
   "source": [
    "def sum_ordered_differences(location_ids1: list[int], location_ids2: list[int]) -> int:\n",
    "    return sum([abs(s1-s2) for s1, s2 in zip(sorted(location_ids1),sorted(location_ids2))])"
   ]
  },
  {
   "cell_type": "code",
   "execution_count": 6,
   "metadata": {},
   "outputs": [
    {
     "data": {
      "text/plain": [
       "1938424"
      ]
     },
     "execution_count": 6,
     "metadata": {},
     "output_type": "execute_result"
    }
   ],
   "source": [
    "sum_ordered_differences(*l)"
   ]
  }
 ],
 "metadata": {
  "kernelspec": {
   "display_name": ".venv",
   "language": "python",
   "name": "python3"
  },
  "language_info": {
   "codemirror_mode": {
    "name": "ipython",
    "version": 3
   },
   "file_extension": ".py",
   "mimetype": "text/x-python",
   "name": "python",
   "nbconvert_exporter": "python",
   "pygments_lexer": "ipython3",
   "version": "3.12.3"
  }
 },
 "nbformat": 4,
 "nbformat_minor": 2
}
